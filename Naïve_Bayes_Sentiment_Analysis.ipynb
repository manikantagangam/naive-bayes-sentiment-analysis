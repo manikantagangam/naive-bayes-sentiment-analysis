{
 "cells": [
  {
   "cell_type": "code",
   "execution_count": 1,
   "id": "c5ef331f",
   "metadata": {},
   "outputs": [],
   "source": [
    "import re\n",
    "import math\n",
    "from collections import defaultdict"
   ]
  },
  {
   "cell_type": "code",
   "execution_count": 2,
   "id": "e778de96",
   "metadata": {},
   "outputs": [],
   "source": [
    "positive_tweets = [\n",
    "    \"I am happy because I am Learning NLP\",\n",
    "    \"I am not sad, I am happy\"\n",
    "]\n",
    "\n",
    "negative_tweets = [\n",
    "    \"I am sad, I am not learning NLP\",\n",
    "    \"I am sad, I am not happy\"\n",
    "]"
   ]
  },
  {
   "cell_type": "markdown",
   "id": "f80b2deb",
   "metadata": {},
   "source": [
    "##### Preprocessing the tweets"
   ]
  },
  {
   "cell_type": "code",
   "execution_count": 3,
   "id": "4afbdb2f",
   "metadata": {},
   "outputs": [],
   "source": [
    "def preprocess_tweet(tweet):\n",
    "    tweet = tweet.lower()\n",
    "    tweet = re.sub(r'[^\\w\\s]', '', tweet)  # Removes punctuation\n",
    "    tweet = re.sub(r'http\\S+', '', tweet)  # Removes URLs\n",
    "    tweet = re.sub(r'\\b\\w{1,2}\\b', '', tweet)  # Removes short words\n",
    "    return tweet.split()"
   ]
  },
  {
   "cell_type": "code",
   "execution_count": 5,
   "id": "74a412ce",
   "metadata": {},
   "outputs": [
    {
     "name": "stdout",
     "output_type": "stream",
     "text": [
      "['happy', 'because', 'learning', 'nlp']\n",
      "['not', 'sad', 'happy']\n",
      "['sad', 'not', 'learning', 'nlp']\n",
      "['sad', 'not', 'happy']\n"
     ]
    }
   ],
   "source": [
    "for tweet in positive_tweets:\n",
    "    print(preprocess_tweet(tweet))\n",
    "for tweet in negative_tweets:\n",
    "    print(preprocess_tweet(tweet))"
   ]
  },
  {
   "cell_type": "code",
   "execution_count": 6,
   "id": "c8f0f143",
   "metadata": {},
   "outputs": [],
   "source": [
    "def build_vocab_and_frequencies(positive_tweets, negative_tweets):\n",
    "    vocab = set()\n",
    "    word_freq_pos = defaultdict(int)\n",
    "    word_freq_neg = defaultdict(int)\n",
    "\n",
    "    for tweet in positive_tweets:\n",
    "        tokens = preprocess_tweet(tweet)\n",
    "        for token in tokens:\n",
    "            vocab.add(token)\n",
    "            word_freq_pos[token] += 1\n",
    "\n",
    "    for tweet in negative_tweets:\n",
    "        tokens = preprocess_tweet(tweet)\n",
    "        for token in tokens:\n",
    "            vocab.add(token)\n",
    "            word_freq_neg[token] += 1\n",
    "\n",
    "    return vocab, word_freq_pos, word_freq_neg"
   ]
  },
  {
   "cell_type": "code",
   "execution_count": 7,
   "id": "0c05909d",
   "metadata": {},
   "outputs": [],
   "source": [
    "vocab, word_freq_pos, word_freq_neg = build_vocab_and_frequencies(positive_tweets, negative_tweets)"
   ]
  },
  {
   "cell_type": "markdown",
   "id": "96f2146c",
   "metadata": {},
   "source": [
    "##### calculation of conditional probabilities with Laplacian smoothing"
   ]
  },
  {
   "cell_type": "code",
   "execution_count": 8,
   "id": "539c7aa8",
   "metadata": {},
   "outputs": [],
   "source": [
    "def calculate_conditional_probabilities(vocab, word_freq_pos, word_freq_neg):\n",
    "    V = len(vocab)\n",
    "    P_w_pos = {}\n",
    "    P_w_neg = {}\n",
    "\n",
    "    N_pos = sum(word_freq_pos.values())\n",
    "    N_neg = sum(word_freq_neg.values())\n",
    "\n",
    "    for word in vocab:\n",
    "        P_w_pos[word] = (word_freq_pos[word] + 1) / (N_pos + V)\n",
    "        P_w_neg[word] = (word_freq_neg[word] + 1) / (N_neg + V)\n",
    "\n",
    "    return P_w_pos, P_w_neg"
   ]
  },
  {
   "cell_type": "code",
   "execution_count": 9,
   "id": "1c6f8b27",
   "metadata": {},
   "outputs": [],
   "source": [
    "P_w_pos, P_w_neg = calculate_conditional_probabilities(vocab, word_freq_pos, word_freq_neg)"
   ]
  },
  {
   "cell_type": "code",
   "execution_count": 10,
   "id": "dcec8489",
   "metadata": {},
   "outputs": [
    {
     "data": {
      "text/plain": [
       "{'because': 0.15384615384615385,\n",
       " 'nlp': 0.15384615384615385,\n",
       " 'happy': 0.23076923076923078,\n",
       " 'learning': 0.15384615384615385,\n",
       " 'sad': 0.15384615384615385,\n",
       " 'not': 0.15384615384615385}"
      ]
     },
     "execution_count": 10,
     "metadata": {},
     "output_type": "execute_result"
    }
   ],
   "source": [
    "P_w_pos"
   ]
  },
  {
   "cell_type": "code",
   "execution_count": 11,
   "id": "a2e42626",
   "metadata": {},
   "outputs": [
    {
     "data": {
      "text/plain": [
       "{'because': 0.07692307692307693,\n",
       " 'nlp': 0.15384615384615385,\n",
       " 'happy': 0.15384615384615385,\n",
       " 'learning': 0.15384615384615385,\n",
       " 'sad': 0.23076923076923078,\n",
       " 'not': 0.23076923076923078}"
      ]
     },
     "execution_count": 11,
     "metadata": {},
     "output_type": "execute_result"
    }
   ],
   "source": [
    "P_w_neg"
   ]
  },
  {
   "cell_type": "markdown",
   "id": "c82651c7",
   "metadata": {},
   "source": [
    "##### log likelihood ratio"
   ]
  },
  {
   "cell_type": "code",
   "execution_count": 12,
   "id": "f09c8949",
   "metadata": {},
   "outputs": [],
   "source": [
    "def calculate_lambda(P_w_pos, P_w_neg):\n",
    "    lambda_values = {}\n",
    "    for word in P_w_pos.keys():\n",
    "        lambda_values[word] = math.log(P_w_pos[word] / P_w_neg[word])\n",
    "    return lambda_values"
   ]
  },
  {
   "cell_type": "code",
   "execution_count": 13,
   "id": "76c9d050",
   "metadata": {},
   "outputs": [],
   "source": [
    "lambda_values = calculate_lambda(P_w_pos, P_w_neg)"
   ]
  },
  {
   "cell_type": "code",
   "execution_count": 14,
   "id": "16c9100d",
   "metadata": {},
   "outputs": [
    {
     "name": "stdout",
     "output_type": "stream",
     "text": [
      "{'because': 0.6931471805599453, 'nlp': 0.0, 'happy': 0.4054651081081644, 'learning': 0.0, 'sad': -0.40546510810816444, 'not': -0.40546510810816444}\n"
     ]
    }
   ],
   "source": [
    "print(lambda_values)"
   ]
  },
  {
   "cell_type": "code",
   "execution_count": 15,
   "id": "9a84eda7",
   "metadata": {},
   "outputs": [],
   "source": [
    "def calculate_logprior(positive_tweets, negative_tweets):\n",
    "    D_pos = len(positive_tweets)\n",
    "    D_neg = len(negative_tweets)\n",
    "    return math.log(D_pos / D_neg)"
   ]
  },
  {
   "cell_type": "code",
   "execution_count": 16,
   "id": "9b1b4b82",
   "metadata": {},
   "outputs": [],
   "source": [
    "logprior = calculate_logprior(positive_tweets, negative_tweets)"
   ]
  },
  {
   "cell_type": "code",
   "execution_count": 17,
   "id": "cf04a29d",
   "metadata": {},
   "outputs": [
    {
     "name": "stdout",
     "output_type": "stream",
     "text": [
      "0.0\n"
     ]
    }
   ],
   "source": [
    "print(logprior)"
   ]
  },
  {
   "cell_type": "code",
   "execution_count": 18,
   "id": "af40d1a9",
   "metadata": {},
   "outputs": [],
   "source": [
    "def sentiment_analysis(tweet, lambda_values, logprior):\n",
    "    tokens = preprocess_tweet(tweet)\n",
    "    sentiment_score = 0.0\n",
    "\n",
    "    for token in tokens:\n",
    "        if token in lambda_values:\n",
    "            sentiment_score += lambda_values[token]\n",
    "\n",
    "    sentiment_score += logprior\n",
    "\n",
    "    if sentiment_score > 0:\n",
    "        return \"Positive\"\n",
    "    elif sentiment_score < 0:\n",
    "        return \"Negative\"\n",
    "    else:\n",
    "        return \"Neutral\""
   ]
  },
  {
   "cell_type": "code",
   "execution_count": 19,
   "id": "1e3dc845",
   "metadata": {},
   "outputs": [
    {
     "name": "stdout",
     "output_type": "stream",
     "text": [
      "I was not happy\n",
      "Sentiment: Negative\n"
     ]
    }
   ],
   "source": [
    "test_tweet = input()\n",
    "result = sentiment_analysis(test_tweet, lambda_values, logprior)\n",
    "print(f\"Sentiment: {result}\")"
   ]
  }
 ],
 "metadata": {
  "kernelspec": {
   "display_name": "Python 3 (ipykernel)",
   "language": "python",
   "name": "python3"
  },
  "language_info": {
   "codemirror_mode": {
    "name": "ipython",
    "version": 3
   },
   "file_extension": ".py",
   "mimetype": "text/x-python",
   "name": "python",
   "nbconvert_exporter": "python",
   "pygments_lexer": "ipython3",
   "version": "3.9.12"
  }
 },
 "nbformat": 4,
 "nbformat_minor": 5
}
