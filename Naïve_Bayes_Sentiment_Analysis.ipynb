{
 "cells": [
  {
   "cell_type": "code",
   "execution_count": 1,
   "id": "56268862",
   "metadata": {},
   "outputs": [],
   "source": [
    "import re\n",
    "import math\n",
    "from collections import defaultdict\n",
    "import nltk                           \n",
    "from nltk.corpus import twitter_samples "
   ]
  },
  {
   "cell_type": "code",
   "execution_count": 2,
   "id": "48918ba8",
   "metadata": {},
   "outputs": [
    {
     "name": "stderr",
     "output_type": "stream",
     "text": [
      "[nltk_data] Downloading package twitter_samples to\n",
      "[nltk_data]     /Users/mani/nltk_data...\n",
      "[nltk_data]   Package twitter_samples is already up-to-date!\n"
     ]
    },
    {
     "data": {
      "text/plain": [
       "True"
      ]
     },
     "execution_count": 2,
     "metadata": {},
     "output_type": "execute_result"
    }
   ],
   "source": [
    "nltk.download('twitter_samples')"
   ]
  },
  {
   "cell_type": "code",
   "execution_count": 3,
   "id": "103f6362",
   "metadata": {},
   "outputs": [],
   "source": [
    "# select the set of positive and negative tweets\n",
    "all_positive_tweets = twitter_samples.strings('positive_tweets.json')\n",
    "all_negative_tweets = twitter_samples.strings('negative_tweets.json')"
   ]
  },
  {
   "cell_type": "code",
   "execution_count": 4,
   "id": "d28215fb",
   "metadata": {},
   "outputs": [],
   "source": [
    "positive_tweets = all_positive_tweets\n",
    "negative_tweets = all_negative_tweets"
   ]
  },
  {
   "cell_type": "code",
   "execution_count": 5,
   "id": "2851c86c",
   "metadata": {},
   "outputs": [],
   "source": [
    "# positive_tweets = [\n",
    "#     \"I am happy because I am Learning NLP\",\n",
    "#     \"I am not sad, I am happy\"\n",
    "# ]\n",
    "\n",
    "# negative_tweets = [\n",
    "#     \"I am sad, I am not learning NLP\",\n",
    "#     \"I am sad, I am not happy\"\n",
    "# ]"
   ]
  },
  {
   "cell_type": "markdown",
   "id": "bd26935a",
   "metadata": {},
   "source": [
    "##### Preprocessing the tweets"
   ]
  },
  {
   "cell_type": "code",
   "execution_count": 6,
   "id": "1624ac2d",
   "metadata": {},
   "outputs": [],
   "source": [
    "def preprocess_tweet(tweet):\n",
    "    tweet = tweet.lower()\n",
    "    tweet = re.sub(r'[^\\w\\s]', '', tweet)  # Removes punctuation\n",
    "    tweet = re.sub(r'http\\S+', '', tweet)  # Removes URLs\n",
    "    tweet = re.sub(r'\\b\\w{1,2}\\b', '', tweet)  # Removes short words\n",
    "    return tweet.split()"
   ]
  },
  {
   "cell_type": "code",
   "execution_count": 7,
   "id": "2a47bc47",
   "metadata": {},
   "outputs": [],
   "source": [
    "# for tweet in positive_tweets:\n",
    "#     print(preprocess_tweet(tweet))\n",
    "# for tweet in negative_tweets:\n",
    "#     print(preprocess_tweet(tweet))"
   ]
  },
  {
   "cell_type": "code",
   "execution_count": 8,
   "id": "e6fc8cf1",
   "metadata": {},
   "outputs": [],
   "source": [
    "def build_vocab_and_frequencies(positive_tweets, negative_tweets):\n",
    "    vocab = set()\n",
    "    word_freq_pos = defaultdict(int)\n",
    "    word_freq_neg = defaultdict(int)\n",
    "\n",
    "    for tweet in positive_tweets:\n",
    "        tokens = preprocess_tweet(tweet)\n",
    "        for token in tokens:\n",
    "            vocab.add(token)\n",
    "            word_freq_pos[token] += 1\n",
    "\n",
    "    for tweet in negative_tweets:\n",
    "        tokens = preprocess_tweet(tweet)\n",
    "        for token in tokens:\n",
    "            vocab.add(token)\n",
    "            word_freq_neg[token] += 1\n",
    "\n",
    "    return vocab, word_freq_pos, word_freq_neg"
   ]
  },
  {
   "cell_type": "code",
   "execution_count": 9,
   "id": "181341b5",
   "metadata": {},
   "outputs": [],
   "source": [
    "vocab, word_freq_pos, word_freq_neg = build_vocab_and_frequencies(positive_tweets, negative_tweets)"
   ]
  },
  {
   "cell_type": "markdown",
   "id": "9242ce18",
   "metadata": {},
   "source": [
    "##### calculation of conditional probabilities with Laplacian smoothing"
   ]
  },
  {
   "cell_type": "code",
   "execution_count": 10,
   "id": "748b834b",
   "metadata": {},
   "outputs": [],
   "source": [
    "def calculate_conditional_probabilities(vocab, word_freq_pos, word_freq_neg):\n",
    "    V = len(vocab)\n",
    "    P_w_pos = {}\n",
    "    P_w_neg = {}\n",
    "\n",
    "    N_pos = sum(word_freq_pos.values())\n",
    "    N_neg = sum(word_freq_neg.values())\n",
    "\n",
    "    for word in vocab:\n",
    "        P_w_pos[word] = (word_freq_pos[word] + 1) / (N_pos + V)\n",
    "        P_w_neg[word] = (word_freq_neg[word] + 1) / (N_neg + V)\n",
    "\n",
    "    return P_w_pos, P_w_neg"
   ]
  },
  {
   "cell_type": "code",
   "execution_count": 11,
   "id": "9ce5c702",
   "metadata": {},
   "outputs": [],
   "source": [
    "P_w_pos, P_w_neg = calculate_conditional_probabilities(vocab, word_freq_pos, word_freq_neg)"
   ]
  },
  {
   "cell_type": "code",
   "execution_count": 12,
   "id": "dc9fc1dc",
   "metadata": {},
   "outputs": [],
   "source": [
    "# P_w_pos"
   ]
  },
  {
   "cell_type": "code",
   "execution_count": 13,
   "id": "31bd1929",
   "metadata": {},
   "outputs": [],
   "source": [
    "# P_w_neg"
   ]
  },
  {
   "cell_type": "markdown",
   "id": "dc043d27",
   "metadata": {},
   "source": [
    "##### log likelihood ratio"
   ]
  },
  {
   "cell_type": "code",
   "execution_count": 14,
   "id": "1a27bad9",
   "metadata": {},
   "outputs": [],
   "source": [
    "def calculate_lambda(P_w_pos, P_w_neg):\n",
    "    lambda_values = {}\n",
    "    for word in P_w_pos.keys():\n",
    "        lambda_values[word] = math.log(P_w_pos[word] / P_w_neg[word])\n",
    "    return lambda_values"
   ]
  },
  {
   "cell_type": "code",
   "execution_count": 15,
   "id": "c514e550",
   "metadata": {},
   "outputs": [],
   "source": [
    "lambda_values = calculate_lambda(P_w_pos, P_w_neg)"
   ]
  },
  {
   "cell_type": "code",
   "execution_count": 16,
   "id": "3cec76d7",
   "metadata": {},
   "outputs": [],
   "source": [
    "# print(lambda_values)"
   ]
  },
  {
   "cell_type": "code",
   "execution_count": 17,
   "id": "71eadad2",
   "metadata": {},
   "outputs": [],
   "source": [
    "def calculate_logprior(positive_tweets, negative_tweets):\n",
    "    D_pos = len(positive_tweets)\n",
    "    D_neg = len(negative_tweets)\n",
    "    return math.log(D_pos / D_neg)"
   ]
  },
  {
   "cell_type": "code",
   "execution_count": 18,
   "id": "d043ad1c",
   "metadata": {},
   "outputs": [],
   "source": [
    "logprior = calculate_logprior(positive_tweets, negative_tweets)"
   ]
  },
  {
   "cell_type": "code",
   "execution_count": 19,
   "id": "55c89693",
   "metadata": {},
   "outputs": [
    {
     "name": "stdout",
     "output_type": "stream",
     "text": [
      "0.0\n"
     ]
    }
   ],
   "source": [
    "print(logprior)"
   ]
  },
  {
   "cell_type": "code",
   "execution_count": 20,
   "id": "f6f0fa29",
   "metadata": {},
   "outputs": [],
   "source": [
    "def sentiment_analysis(tweet, lambda_values, logprior):\n",
    "    tokens = preprocess_tweet(tweet)\n",
    "    sentiment_score = 0.0\n",
    "\n",
    "    for token in tokens:\n",
    "        if token in lambda_values:\n",
    "            sentiment_score += lambda_values[token]\n",
    "\n",
    "    sentiment_score += logprior\n",
    "\n",
    "    if sentiment_score > 0:\n",
    "        return \"Positive\"\n",
    "    elif sentiment_score < 0:\n",
    "        return \"Negative\"\n",
    "    else:\n",
    "        return \"Neutral\""
   ]
  },
  {
   "cell_type": "code",
   "execution_count": null,
   "id": "d8aeb776",
   "metadata": {},
   "outputs": [],
   "source": [
    "test_tweet = input()\n",
    "result = sentiment_analysis(test_tweet, lambda_values, logprior)\n",
    "print(f\"Sentiment: {result}\")"
   ]
  }
 ],
 "metadata": {
  "kernelspec": {
   "display_name": "Python 3 (ipykernel)",
   "language": "python",
   "name": "python3"
  },
  "language_info": {
   "codemirror_mode": {
    "name": "ipython",
    "version": 3
   },
   "file_extension": ".py",
   "mimetype": "text/x-python",
   "name": "python",
   "nbconvert_exporter": "python",
   "pygments_lexer": "ipython3",
   "version": "3.9.12"
  }
 },
 "nbformat": 4,
 "nbformat_minor": 5
}
